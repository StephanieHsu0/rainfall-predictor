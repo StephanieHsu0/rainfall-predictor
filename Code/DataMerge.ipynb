{
  "nbformat": 4,
  "nbformat_minor": 0,
  "metadata": {
    "colab": {
      "provenance": []
    },
    "kernelspec": {
      "name": "python3",
      "display_name": "Python 3"
    },
    "language_info": {
      "name": "python"
    }
  },
  "cells": [
    {
      "cell_type": "code",
      "execution_count": null,
      "metadata": {
        "id": "QJmGIAMykPbq"
      },
      "outputs": [],
      "source": [
        "import zipfile\n",
        "import os\n",
        "\n",
        "# 解壓路徑\n",
        "extract_path = '/content/data/cleaned/'\n",
        "os.makedirs(extract_path, exist_ok=True)\n",
        "\n",
        "# 解壓\n",
        "zip_path = '/content/cleaned_data.zip'\n",
        "with zipfile.ZipFile(zip_path, 'r') as zip_ref:\n",
        "    zip_ref.extractall(extract_path)\n",
        "\n",
        "print(f\"cleaned_data.zip 已解壓縮到 {extract_path}\")\n"
      ]
    },
    {
      "cell_type": "code",
      "source": [
        "import pandas as pd\n",
        "\n",
        "# 合併儲存路徑\n",
        "full_output_path = '/content/data/full/'\n",
        "os.makedirs(full_output_path, exist_ok=True)\n",
        "\n",
        "# 遍歷 cleaned 資料夾\n",
        "for station_id in os.listdir(extract_path):\n",
        "    station_path = os.path.join(extract_path, station_id)\n",
        "    if not os.path.isdir(station_path):\n",
        "        continue\n",
        "\n",
        "    for year_folder in os.listdir(station_path):\n",
        "        year_path = os.path.join(station_path, year_folder)\n",
        "        if not os.path.isdir(year_path):\n",
        "            continue\n",
        "\n",
        "        print(f\"\\n正在合併：{station_id} 年 {year_folder}\")\n",
        "\n",
        "        dfs = []\n",
        "        for file_name in sorted(os.listdir(year_path)):\n",
        "            if file_name.endswith('_cleaned.csv'):\n",
        "                file_path = os.path.join(year_path, file_name)\n",
        "                try:\n",
        "                    df = pd.read_csv(file_path)\n",
        "                    dfs.append(df)\n",
        "                except Exception as e:\n",
        "                    print(f\"讀取失敗：{file_path}, 錯誤：{e}\")\n",
        "\n",
        "        if dfs:\n",
        "            df_full = pd.concat(dfs, ignore_index=True)\n",
        "            full_file_name = f\"{station_id}_{year_folder}_full.csv\"\n",
        "            full_file_path = os.path.join(full_output_path, full_file_name)\n",
        "            df_full.to_csv(full_file_path, index=False, encoding='utf-8-sig')\n",
        "            print(f\"成功儲存：{full_file_name}\")\n",
        "        else:\n",
        "            print(f\"沒有找到 {station_id} 年 {year_folder} 的清洗檔案\")\n"
      ],
      "metadata": {
        "id": "itJUICdFkXTF"
      },
      "execution_count": null,
      "outputs": []
    },
    {
      "cell_type": "code",
      "source": [
        "import shutil\n",
        "\n",
        "# 壓縮 /content/data/full/ 成 full_data.zip\n",
        "shutil.make_archive('/content/full_data', 'zip', '/content/data/full')\n",
        "\n",
        "print(\"資料夾已成功壓縮成 /content/full_data.zip\")\n"
      ],
      "metadata": {
        "id": "2zKnCAq6kZWC"
      },
      "execution_count": null,
      "outputs": []
    }
  ]
}